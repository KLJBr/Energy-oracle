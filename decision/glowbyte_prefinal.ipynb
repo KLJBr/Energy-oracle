{
 "cells": [
  {
   "cell_type": "code",
   "execution_count": 1,
   "id": "6e9980bb",
   "metadata": {
    "colab": {
     "base_uri": "https://localhost:8080/"
    },
    "id": "6e9980bb",
    "outputId": "6fe7742d-3e3c-4b32-f1e1-e3c1a1e125bd"
   },
   "outputs": [],
   "source": [
    "import pandas as pd\n",
    "import numpy as np\n",
    "import matplotlib.pyplot as plt\n",
    "import datetime as dt\n",
    "import pickle\n",
    "import optuna\n",
    "from catboost import CatBoostRegressor\n",
    "from sklearn.metrics import mean_absolute_error as mae\n",
    "from sklearn.metrics import mean_absolute_percentage_error as mape\n",
    "from sklearn.metrics import r2_score as r2"
   ]
  },
  {
   "cell_type": "markdown",
   "id": "d429506e-ba9d-41a0-bd9f-6a87a4dbb951",
   "metadata": {},
   "source": [
    "### Предобработка данных. Генерация новых признаков."
   ]
  },
  {
   "cell_type": "code",
   "execution_count": 5,
   "id": "ac014564",
   "metadata": {
    "id": "ac014564"
   },
   "outputs": [],
   "source": [
    "def preprocessing(data:pd.DataFrame) -> pd.DataFrame:\n",
    "    data = new_data(data)\n",
    "    data['diff'] = data['target'].diff()\n",
    "    data = lagged(data, [1, 7], 'target')\n",
    "    data = lagged(data, [1, 7], 'diff')\n",
    "    return data.drop(['diff'], axis=1).set_index('date').dropna()"
   ]
  },
  {
   "cell_type": "code",
   "execution_count": 6,
   "id": "512a9c31",
   "metadata": {
    "id": "512a9c31"
   },
   "outputs": [],
   "source": [
    "def new_data(data:pd.DataFrame) -> pd.DataFrame:\n",
    "    data[\"target\"] = data.groupby(['date'])[['target']].transform(('sum'))\n",
    "    data[\"temp_pred\"] = data.groupby(['date'])[['temp_pred']].transform(('mean'))\n",
    "    data = data[['date', 'target', 'temp_pred']]\n",
    "    return data.drop_duplicates()"
   ]
  },
  {
   "cell_type": "code",
   "execution_count": 7,
   "id": "ce13370c",
   "metadata": {
    "id": "ce13370c"
   },
   "outputs": [],
   "source": [
    "def lagged(data:pd.DataFrame, lags:list, name_column:str) -> pd.DataFrame:\n",
    "    for i in lags:\n",
    "        data[f'{name_column}_lag{i}'] = data[name_column].shift(periods=i)\n",
    "    return data"
   ]
  },
  {
   "cell_type": "code",
   "execution_count": 8,
   "id": "c16f867a",
   "metadata": {
    "id": "c16f867a"
   },
   "outputs": [],
   "source": [
    "df_train = pd.read_csv('./../data/train_dataset.csv')\n",
    "df_test = pd.read_csv('./../data/test_dataset.csv')\n",
    "\n",
    "df = preprocessing(pd.concat([df_train, df_test], axis=0))\n",
    "\n",
    "test_size = df_test.shape[0]//24\n",
    "size = df.shape[0]\n",
    "train_size = size -test_size\n",
    "\n",
    "df_train, df_test = df.iloc[:train_size,:], df.iloc[train_size:,:]"
   ]
  },
  {
   "cell_type": "code",
   "execution_count": 7,
   "id": "d84167c1",
   "metadata": {
    "colab": {
     "base_uri": "https://localhost:8080/"
    },
    "id": "d84167c1",
    "outputId": "ac8ae9e7-04d5-4769-a13f-c78895668837"
   },
   "outputs": [
    {
     "name": "stdout",
     "output_type": "stream",
     "text": [
      "all - train: 122\n",
      " test: 122\n"
     ]
    }
   ],
   "source": [
    "print(f'all - train: {df.shape[0]-df_train.shape[0]}\\n test: {df_test.shape[0]}')"
   ]
  },
  {
   "cell_type": "code",
   "execution_count": 8,
   "id": "22251c9e",
   "metadata": {
    "colab": {
     "base_uri": "https://localhost:8080/"
    },
    "id": "22251c9e",
    "outputId": "5fcfc8c0-dc1f-4c86-ae85-db0c6116deda"
   },
   "outputs": [
    {
     "name": "stdout",
     "output_type": "stream",
     "text": [
      "<class 'pandas.core.frame.DataFrame'>\n",
      "Index: 122 entries, 2023-04-01 to 2023-07-31\n",
      "Data columns (total 6 columns):\n",
      " #   Column       Non-Null Count  Dtype  \n",
      "---  ------       --------------  -----  \n",
      " 0   target       122 non-null    float64\n",
      " 1   temp_pred    122 non-null    float64\n",
      " 2   target_lag1  122 non-null    float64\n",
      " 3   target_lag7  122 non-null    float64\n",
      " 4   diff_lag1    122 non-null    float64\n",
      " 5   diff_lag7    122 non-null    float64\n",
      "dtypes: float64(6)\n",
      "memory usage: 6.7+ KB\n"
     ]
    }
   ],
   "source": [
    "df_test.info()"
   ]
  },
  {
   "cell_type": "code",
   "execution_count": 9,
   "id": "514a4e7c",
   "metadata": {
    "colab": {
     "base_uri": "https://localhost:8080/"
    },
    "id": "514a4e7c",
    "outputId": "b60b2360-2f77-4f04-b6e9-37ab61311dca"
   },
   "outputs": [
    {
     "name": "stdout",
     "output_type": "stream",
     "text": [
      "<class 'pandas.core.frame.DataFrame'>\n",
      "Index: 1543 entries, 2019-01-09 to 2023-03-31\n",
      "Data columns (total 6 columns):\n",
      " #   Column       Non-Null Count  Dtype  \n",
      "---  ------       --------------  -----  \n",
      " 0   target       1543 non-null   float64\n",
      " 1   temp_pred    1543 non-null   float64\n",
      " 2   target_lag1  1543 non-null   float64\n",
      " 3   target_lag7  1543 non-null   float64\n",
      " 4   diff_lag1    1543 non-null   float64\n",
      " 5   diff_lag7    1543 non-null   float64\n",
      "dtypes: float64(6)\n",
      "memory usage: 84.4+ KB\n"
     ]
    }
   ],
   "source": [
    "df_train.info()"
   ]
  },
  {
   "cell_type": "code",
   "execution_count": null,
   "id": "711486ec-8f83-49ad-b8bb-081e6def9d0f",
   "metadata": {},
   "outputs": [],
   "source": [
    "X = df_train.drop(['target'], axis = 1)\n",
    "y = df_train['target']\n",
    "\n",
    "X_test = df_test.drop(['target'], axis = 1)\n",
    "y_test = df_test['target']"
   ]
  },
  {
   "cell_type": "markdown",
   "id": "998fa1c2-28bc-4db3-80de-12721d7a65db",
   "metadata": {},
   "source": [
    "### Подбор параметров и обучение модели."
   ]
  },
  {
   "cell_type": "code",
   "execution_count": 13,
   "id": "KQX4s5mH7GpX",
   "metadata": {
    "id": "KQX4s5mH7GpX"
   },
   "outputs": [],
   "source": [
    "X = df_train.drop(['target'], axis = 1)\n",
    "y = df_train['target']\n",
    "\n",
    "X_test = df_test.drop(['target'], axis = 1)\n",
    "y_test = df_test['target']"
   ]
  },
  {
   "cell_type": "code",
   "execution_count": 14,
   "id": "KpVUYI-g7ZkK",
   "metadata": {
    "id": "KpVUYI-g7ZkK"
   },
   "outputs": [],
   "source": [
    "def objective(trial):\n",
    "\n",
    "    train_size = int(len(X) * 0.8)\n",
    "    X_train, X_test, y_train, y_test = X[:train_size], X[train_size:], y[:train_size], y[train_size:]\n",
    "    param = {\n",
    "        'iterations' : trial.suggest_int(\"iterations\", 100, 1500),\n",
    "        'learning_rate':trial.suggest_float(\"learning_rate\", 1e-3, 1e-1, log=True),\n",
    "        'depth':trial.suggest_int(\"depth\", 4, 10),\n",
    "        'l2_leaf_reg':trial.suggest_float(\"l2_leaf_reg\", 1e-8, 100.0, log=True),\n",
    "       'bootstrap_type':trial.suggest_categorical(\"bootstrap_type\", [\"Bayesian\"]),\n",
    "        'random_strength':trial.suggest_float(\"random_strength\", 1e-8, 10.0, log=True),\n",
    "        'bagging_temperature':trial.suggest_float(\"bagging_temperature\", 0.0, 10.0),\n",
    "        'od_type':trial.suggest_categorical(\"od_type\", [\"IncToDec\", \"Iter\"]),\n",
    "        'od_wait':trial.suggest_int(\"od_wait\", 10, 50),\n",
    "    }\n",
    "\n",
    "    if param[\"bootstrap_type\"] == \"Bayesian\":\n",
    "        param[\"bagging_temperature\"] = trial.suggest_float(\"bagging_temperature\", 0, 10)\n",
    "    elif param[\"bootstrap_type\"] == \"Bernoulli\":\n",
    "        param[\"subsample\"] = trial.suggest_float(\"subsample\", 0.1, 1)\n",
    "\n",
    "    cb = CatBoostRegressor(**param, loss_function='MAE')\n",
    "\n",
    "    cb.fit(X_train, y_train, verbose=0, early_stopping_rounds=300)\n",
    "\n",
    "    preds = cb.predict(X_test)\n",
    "    accuracy = r2(y_test, preds)\n",
    "\n",
    "    return accuracy"
   ]
  },
  {
   "cell_type": "code",
   "execution_count": 15,
   "id": "2JQ0HfyN7cPs",
   "metadata": {
    "colab": {
     "base_uri": "https://localhost:8080/"
    },
    "id": "2JQ0HfyN7cPs",
    "outputId": "31e3c386-ab11-47a0-9d11-a012107eea22"
   },
   "outputs": [
    {
     "name": "stderr",
     "output_type": "stream",
     "text": [
      "[I 2023-10-22 19:47:45,592] A new study created in memory with name: no-name-5ea9235b-4b91-4c94-8f81-590df6846c70\n",
      "[I 2023-10-22 19:47:48,368] Trial 0 finished with value: 0.979838500330145 and parameters: {'iterations': 977, 'learning_rate': 0.015170322135778019, 'depth': 4, 'l2_leaf_reg': 0.1016457157545163, 'bootstrap_type': 'Bayesian', 'random_strength': 5.5874856328402445e-08, 'bagging_temperature': 0.36218239161060817, 'od_type': 'Iter', 'od_wait': 24}. Best is trial 0 with value: 0.979838500330145.\n",
      "[I 2023-10-22 19:47:54,951] Trial 1 finished with value: 0.9648902638656709 and parameters: {'iterations': 1262, 'learning_rate': 0.0037927638016019543, 'depth': 7, 'l2_leaf_reg': 0.029995013360522894, 'bootstrap_type': 'Bayesian', 'random_strength': 1.467216764804454e-08, 'bagging_temperature': 9.283368897560116, 'od_type': 'IncToDec', 'od_wait': 22}. Best is trial 0 with value: 0.979838500330145.\n",
      "[I 2023-10-22 19:47:57,530] Trial 2 finished with value: 0.9789191785113114 and parameters: {'iterations': 1437, 'learning_rate': 0.05663766475322152, 'depth': 6, 'l2_leaf_reg': 3.269268125448664e-06, 'bootstrap_type': 'Bayesian', 'random_strength': 0.04175554162675716, 'bagging_temperature': 4.896897394689098, 'od_type': 'Iter', 'od_wait': 43}. Best is trial 0 with value: 0.979838500330145.\n",
      "[I 2023-10-22 19:48:01,020] Trial 3 finished with value: 0.9703289353663965 and parameters: {'iterations': 1471, 'learning_rate': 0.0046010741722087274, 'depth': 5, 'l2_leaf_reg': 0.005701399744675128, 'bootstrap_type': 'Bayesian', 'random_strength': 8.00575165230352e-06, 'bagging_temperature': 6.111499974063578, 'od_type': 'Iter', 'od_wait': 46}. Best is trial 0 with value: 0.979838500330145.\n",
      "[I 2023-10-22 19:48:10,762] Trial 4 finished with value: 0.9751485651493234 and parameters: {'iterations': 1001, 'learning_rate': 0.0232297293788581, 'depth': 9, 'l2_leaf_reg': 2.5584357940405845e-05, 'bootstrap_type': 'Bayesian', 'random_strength': 2.9191987288681126e-06, 'bagging_temperature': 5.327893132246999, 'od_type': 'IncToDec', 'od_wait': 26}. Best is trial 0 with value: 0.979838500330145.\n",
      "[I 2023-10-22 19:48:23,246] Trial 5 finished with value: 0.9789408821867163 and parameters: {'iterations': 1203, 'learning_rate': 0.009101991551760306, 'depth': 9, 'l2_leaf_reg': 0.039460981946703784, 'bootstrap_type': 'Bayesian', 'random_strength': 5.142258758528156, 'bagging_temperature': 3.204689878083383, 'od_type': 'Iter', 'od_wait': 47}. Best is trial 0 with value: 0.979838500330145.\n",
      "[I 2023-10-22 19:48:35,329] Trial 6 finished with value: 0.9606255457681249 and parameters: {'iterations': 667, 'learning_rate': 0.005555759839547058, 'depth': 10, 'l2_leaf_reg': 0.0004718088449879767, 'bootstrap_type': 'Bayesian', 'random_strength': 3.789197975865885e-07, 'bagging_temperature': 5.3972862032532625, 'od_type': 'Iter', 'od_wait': 24}. Best is trial 0 with value: 0.979838500330145.\n",
      "[I 2023-10-22 19:48:39,005] Trial 7 finished with value: 0.936138727712982 and parameters: {'iterations': 1094, 'learning_rate': 0.002477124042306188, 'depth': 6, 'l2_leaf_reg': 3.682674962678773e-06, 'bootstrap_type': 'Bayesian', 'random_strength': 3.5302778230566775e-07, 'bagging_temperature': 7.1712606629981295, 'od_type': 'IncToDec', 'od_wait': 31}. Best is trial 0 with value: 0.979838500330145.\n",
      "[I 2023-10-22 19:48:39,739] Trial 8 finished with value: 0.7531100600611712 and parameters: {'iterations': 231, 'learning_rate': 0.004635958092599266, 'depth': 5, 'l2_leaf_reg': 0.002356091397152328, 'bootstrap_type': 'Bayesian', 'random_strength': 4.961968547126152e-07, 'bagging_temperature': 4.250294590121895, 'od_type': 'IncToDec', 'od_wait': 22}. Best is trial 0 with value: 0.979838500330145.\n",
      "[I 2023-10-22 19:48:41,014] Trial 9 finished with value: 0.9789805757262938 and parameters: {'iterations': 1044, 'learning_rate': 0.032341179645555114, 'depth': 5, 'l2_leaf_reg': 0.005005502753148767, 'bootstrap_type': 'Bayesian', 'random_strength': 8.114542269506299e-05, 'bagging_temperature': 4.443244946498881, 'od_type': 'Iter', 'od_wait': 30}. Best is trial 0 with value: 0.979838500330145.\n",
      "[I 2023-10-22 19:48:41,653] Trial 10 finished with value: 0.6613453276626882 and parameters: {'iterations': 646, 'learning_rate': 0.001221118217881887, 'depth': 4, 'l2_leaf_reg': 18.59235294185492, 'bootstrap_type': 'Bayesian', 'random_strength': 1.037188910978884e-08, 'bagging_temperature': 0.2790566028401512, 'od_type': 'Iter', 'od_wait': 11}. Best is trial 0 with value: 0.979838500330145.\n",
      "[I 2023-10-22 19:48:42,459] Trial 11 finished with value: 0.9798184509243777 and parameters: {'iterations': 850, 'learning_rate': 0.016208279004377858, 'depth': 4, 'l2_leaf_reg': 1.2014808903076605e-08, 'bootstrap_type': 'Bayesian', 'random_strength': 0.0002093887161195308, 'bagging_temperature': 0.4429366418531737, 'od_type': 'Iter', 'od_wait': 34}. Best is trial 0 with value: 0.979838500330145.\n",
      "[I 2023-10-22 19:48:43,222] Trial 12 finished with value: 0.9795953212244666 and parameters: {'iterations': 812, 'learning_rate': 0.015178570760721934, 'depth': 4, 'l2_leaf_reg': 1.4453594236511772e-08, 'bootstrap_type': 'Bayesian', 'random_strength': 0.0010088862595587546, 'bagging_temperature': 0.1403480942753746, 'od_type': 'Iter', 'od_wait': 37}. Best is trial 0 with value: 0.979838500330145.\n",
      "[I 2023-10-22 19:48:43,655] Trial 13 finished with value: 0.9780027536394831 and parameters: {'iterations': 407, 'learning_rate': 0.014839686486784387, 'depth': 4, 'l2_leaf_reg': 1.0009269736579689e-07, 'bootstrap_type': 'Bayesian', 'random_strength': 0.00024845825044475766, 'bagging_temperature': 1.7807322394413971, 'od_type': 'Iter', 'od_wait': 15}. Best is trial 0 with value: 0.979838500330145.\n",
      "[I 2023-10-22 19:48:46,252] Trial 14 finished with value: 0.9787689668212632 and parameters: {'iterations': 861, 'learning_rate': 0.09747747047590326, 'depth': 7, 'l2_leaf_reg': 0.9320328621194066, 'bootstrap_type': 'Bayesian', 'random_strength': 0.002841941778022892, 'bagging_temperature': 1.8442548004135877, 'od_type': 'Iter', 'od_wait': 36}. Best is trial 0 with value: 0.979838500330145.\n",
      "[I 2023-10-22 19:48:47,316] Trial 15 finished with value: 0.9778458550347255 and parameters: {'iterations': 550, 'learning_rate': 0.010029197640129233, 'depth': 6, 'l2_leaf_reg': 0.5688293315967585, 'bootstrap_type': 'Bayesian', 'random_strength': 2.5697232676513993e-05, 'bagging_temperature': 1.7617380859016034, 'od_type': 'Iter', 'od_wait': 17}. Best is trial 0 with value: 0.979838500330145.\n",
      "[I 2023-10-22 19:48:48,167] Trial 16 finished with value: 0.9804602735442021 and parameters: {'iterations': 907, 'learning_rate': 0.031710213309026146, 'depth': 4, 'l2_leaf_reg': 8.61088575426578e-05, 'bootstrap_type': 'Bayesian', 'random_strength': 0.004445396383099353, 'bagging_temperature': 0.45582517091473107, 'od_type': 'Iter', 'od_wait': 38}. Best is trial 16 with value: 0.9804602735442021.\n",
      "[I 2023-10-22 19:48:54,427] Trial 17 finished with value: 0.9776696090602573 and parameters: {'iterations': 931, 'learning_rate': 0.03283907415006129, 'depth': 8, 'l2_leaf_reg': 0.0001720670221543628, 'bootstrap_type': 'Bayesian', 'random_strength': 0.013737046875979268, 'bagging_temperature': 3.0003651849385746, 'od_type': 'Iter', 'od_wait': 40}. Best is trial 16 with value: 0.9804602735442021.\n",
      "[I 2023-10-22 19:48:55,983] Trial 18 finished with value: 0.9808351354614874 and parameters: {'iterations': 1252, 'learning_rate': 0.053204666310544844, 'depth': 5, 'l2_leaf_reg': 7.265764086785494e-05, 'bootstrap_type': 'Bayesian', 'random_strength': 0.08436617275449922, 'bagging_temperature': 1.2932247626740798, 'od_type': 'IncToDec', 'od_wait': 27}. Best is trial 18 with value: 0.9808351354614874.\n",
      "[I 2023-10-22 19:48:57,588] Trial 19 finished with value: 0.9805016477432998 and parameters: {'iterations': 1290, 'learning_rate': 0.05398130118825441, 'depth': 5, 'l2_leaf_reg': 0.0003232250384996427, 'bootstrap_type': 'Bayesian', 'random_strength': 0.2575134491941581, 'bagging_temperature': 1.207459843219726, 'od_type': 'IncToDec', 'od_wait': 31}. Best is trial 18 with value: 0.9808351354614874.\n",
      "[I 2023-10-22 19:48:59,993] Trial 20 finished with value: 0.97863354277759 and parameters: {'iterations': 1307, 'learning_rate': 0.07814630299030424, 'depth': 6, 'l2_leaf_reg': 0.0008380881507491534, 'bootstrap_type': 'Bayesian', 'random_strength': 0.24282398967421914, 'bagging_temperature': 2.9046073463184223, 'od_type': 'IncToDec', 'od_wait': 29}. Best is trial 18 with value: 0.9808351354614874.\n",
      "[I 2023-10-22 19:49:01,484] Trial 21 finished with value: 0.9810102657860932 and parameters: {'iterations': 1170, 'learning_rate': 0.04637410756683678, 'depth': 5, 'l2_leaf_reg': 6.500259038779308e-05, 'bootstrap_type': 'Bayesian', 'random_strength': 0.49867236196037396, 'bagging_temperature': 1.3347702309530138, 'od_type': 'IncToDec', 'od_wait': 33}. Best is trial 21 with value: 0.9810102657860932.\n",
      "[I 2023-10-22 19:49:03,577] Trial 22 finished with value: 0.9806648541220363 and parameters: {'iterations': 1163, 'learning_rate': 0.05512956672109395, 'depth': 5, 'l2_leaf_reg': 2.258902318502901e-05, 'bootstrap_type': 'Bayesian', 'random_strength': 0.467047817878308, 'bagging_temperature': 1.6843276793962674, 'od_type': 'IncToDec', 'od_wait': 32}. Best is trial 21 with value: 0.9810102657860932.\n",
      "[I 2023-10-22 19:49:06,016] Trial 23 finished with value: 0.9808184777630609 and parameters: {'iterations': 1112, 'learning_rate': 0.057850295776102116, 'depth': 5, 'l2_leaf_reg': 1.4874451542236094e-05, 'bootstrap_type': 'Bayesian', 'random_strength': 1.3357219523289843, 'bagging_temperature': 2.458575288732493, 'od_type': 'IncToDec', 'od_wait': 34}. Best is trial 21 with value: 0.9810102657860932.\n",
      "[I 2023-10-22 19:49:08,563] Trial 24 finished with value: 0.9790596883339348 and parameters: {'iterations': 1385, 'learning_rate': 0.09053480256847629, 'depth': 6, 'l2_leaf_reg': 1.2686128618204033e-06, 'bootstrap_type': 'Bayesian', 'random_strength': 9.328942198838297, 'bagging_temperature': 2.419358497654824, 'od_type': 'IncToDec', 'od_wait': 27}. Best is trial 21 with value: 0.9810102657860932.\n",
      "[I 2023-10-22 19:49:11,836] Trial 25 finished with value: 0.9778510984014668 and parameters: {'iterations': 1104, 'learning_rate': 0.04383527087564059, 'depth': 7, 'l2_leaf_reg': 2.096394286301119e-05, 'bootstrap_type': 'Bayesian', 'random_strength': 1.2711319382316766, 'bagging_temperature': 3.4896117847745654, 'od_type': 'IncToDec', 'od_wait': 42}. Best is trial 21 with value: 0.9810102657860932.\n",
      "[I 2023-10-22 19:49:13,574] Trial 26 finished with value: 0.9795518545683485 and parameters: {'iterations': 1376, 'learning_rate': 0.07449246136207152, 'depth': 5, 'l2_leaf_reg': 6.899974160868804e-07, 'bootstrap_type': 'Bayesian', 'random_strength': 0.06653965696539962, 'bagging_temperature': 2.5124634823405416, 'od_type': 'IncToDec', 'od_wait': 35}. Best is trial 21 with value: 0.9810102657860932.\n",
      "[I 2023-10-22 19:49:19,127] Trial 27 finished with value: 0.9788901077532494 and parameters: {'iterations': 1186, 'learning_rate': 0.04377700217525774, 'depth': 7, 'l2_leaf_reg': 7.01778076877413e-05, 'bootstrap_type': 'Bayesian', 'random_strength': 1.0131373012231004, 'bagging_temperature': 3.664001268570563, 'od_type': 'IncToDec', 'od_wait': 20}. Best is trial 21 with value: 0.9810102657860932.\n",
      "[I 2023-10-22 19:49:20,517] Trial 28 finished with value: 0.9806724820116072 and parameters: {'iterations': 730, 'learning_rate': 0.024031164555602325, 'depth': 5, 'l2_leaf_reg': 5.350222451617507e-06, 'bootstrap_type': 'Bayesian', 'random_strength': 0.059839613715460954, 'bagging_temperature': 1.0453369454488668, 'od_type': 'IncToDec', 'od_wait': 50}. Best is trial 21 with value: 0.9810102657860932.\n",
      "[I 2023-10-22 19:49:22,327] Trial 29 finished with value: 0.9811795484409307 and parameters: {'iterations': 988, 'learning_rate': 0.0635651446780058, 'depth': 6, 'l2_leaf_reg': 3.226816572725875e-07, 'bootstrap_type': 'Bayesian', 'random_strength': 3.265195020254053, 'bagging_temperature': 0.9604302860689486, 'od_type': 'IncToDec', 'od_wait': 27}. Best is trial 29 with value: 0.9811795484409307.\n",
      "[I 2023-10-22 19:49:24,162] Trial 30 finished with value: 0.9810393603314609 and parameters: {'iterations': 989, 'learning_rate': 0.09621173922672885, 'depth': 6, 'l2_leaf_reg': 2.78954767942805e-07, 'bootstrap_type': 'Bayesian', 'random_strength': 3.0843414281707466, 'bagging_temperature': 0.9548784870380097, 'od_type': 'IncToDec', 'od_wait': 27}. Best is trial 29 with value: 0.9811795484409307.\n",
      "[I 2023-10-22 19:49:26,021] Trial 31 finished with value: 0.9805934307840616 and parameters: {'iterations': 1003, 'learning_rate': 0.07363747902077805, 'depth': 6, 'l2_leaf_reg': 3.0400030082047656e-07, 'bootstrap_type': 'Bayesian', 'random_strength': 9.571484392092916, 'bagging_temperature': 0.9154579129475443, 'od_type': 'IncToDec', 'od_wait': 28}. Best is trial 29 with value: 0.9811795484409307.\n",
      "[I 2023-10-22 19:49:28,415] Trial 32 finished with value: 0.9801953398982771 and parameters: {'iterations': 1241, 'learning_rate': 0.09166607929428516, 'depth': 6, 'l2_leaf_reg': 1.1278974908797952e-07, 'bootstrap_type': 'Bayesian', 'random_strength': 2.1462347087326794, 'bagging_temperature': 0.9968483409976299, 'od_type': 'IncToDec', 'od_wait': 25}. Best is trial 29 with value: 0.9811795484409307.\n",
      "[I 2023-10-22 19:49:34,654] Trial 33 finished with value: 0.9783807074033329 and parameters: {'iterations': 971, 'learning_rate': 0.07330999156154162, 'depth': 8, 'l2_leaf_reg': 1.2206182054313501e-06, 'bootstrap_type': 'Bayesian', 'random_strength': 0.1706847815340841, 'bagging_temperature': 0.17633012239172619, 'od_type': 'IncToDec', 'od_wait': 21}. Best is trial 29 with value: 0.9811795484409307.\n",
      "[I 2023-10-22 19:49:38,555] Trial 34 finished with value: 0.9802478700273628 and parameters: {'iterations': 1334, 'learning_rate': 0.04821923805641166, 'depth': 7, 'l2_leaf_reg': 7.789120856899991e-06, 'bootstrap_type': 'Bayesian', 'random_strength': 2.1608282784910537, 'bagging_temperature': 1.374563820947389, 'od_type': 'IncToDec', 'od_wait': 18}. Best is trial 29 with value: 0.9811795484409307.\n",
      "[I 2023-10-22 19:49:40,532] Trial 35 finished with value: 0.9801036392158637 and parameters: {'iterations': 1051, 'learning_rate': 0.09919819040235169, 'depth': 6, 'l2_leaf_reg': 5.442272543102008e-05, 'bootstrap_type': 'Bayesian', 'random_strength': 0.5486542152050607, 'bagging_temperature': 0.8265404509713701, 'od_type': 'IncToDec', 'od_wait': 23}. Best is trial 29 with value: 0.9811795484409307.\n",
      "[I 2023-10-22 19:49:46,600] Trial 36 finished with value: 0.9792536328042234 and parameters: {'iterations': 1500, 'learning_rate': 0.06634134066100267, 'depth': 7, 'l2_leaf_reg': 3.752356013967955e-06, 'bootstrap_type': 'Bayesian', 'random_strength': 3.460420078526905, 'bagging_temperature': 1.9850033758850127, 'od_type': 'IncToDec', 'od_wait': 26}. Best is trial 29 with value: 0.9811795484409307.\n",
      "[I 2023-10-22 19:49:47,592] Trial 37 finished with value: 0.9807760194212057 and parameters: {'iterations': 763, 'learning_rate': 0.03897438335302704, 'depth': 5, 'l2_leaf_reg': 0.00023638172673617485, 'bootstrap_type': 'Bayesian', 'random_strength': 0.021688057079385765, 'bagging_temperature': 1.3761594941000965, 'od_type': 'IncToDec', 'od_wait': 28}. Best is trial 29 with value: 0.9811795484409307.\n",
      "[I 2023-10-22 19:49:50,217] Trial 38 finished with value: 0.9790961398561998 and parameters: {'iterations': 1164, 'learning_rate': 0.05869594892882981, 'depth': 6, 'l2_leaf_reg': 2.4374397183993734e-07, 'bootstrap_type': 'Bayesian', 'random_strength': 0.10057202361819349, 'bagging_temperature': 2.2712974581318663, 'od_type': 'IncToDec', 'od_wait': 33}. Best is trial 29 with value: 0.9811795484409307.\n",
      "[I 2023-10-22 19:49:57,828] Trial 39 finished with value: 0.9794715567338789 and parameters: {'iterations': 1228, 'learning_rate': 0.06538219397240873, 'depth': 8, 'l2_leaf_reg': 0.0011296209238418897, 'bootstrap_type': 'Bayesian', 'random_strength': 0.4540079218977193, 'bagging_temperature': 0.0663232981617552, 'od_type': 'IncToDec', 'od_wait': 30}. Best is trial 29 with value: 0.9811795484409307.\n",
      "[I 2023-10-22 19:49:59,574] Trial 40 finished with value: 0.981179554457563 and parameters: {'iterations': 930, 'learning_rate': 0.044262774822844006, 'depth': 6, 'l2_leaf_reg': 1.838693652133685e-06, 'bootstrap_type': 'Bayesian', 'random_strength': 3.9038930357466097, 'bagging_temperature': 0.7597630056790642, 'od_type': 'IncToDec', 'od_wait': 25}. Best is trial 40 with value: 0.981179554457563.\n",
      "[I 2023-10-22 19:50:01,310] Trial 41 finished with value: 0.9815627838166648 and parameters: {'iterations': 935, 'learning_rate': 0.03926321103019955, 'depth': 6, 'l2_leaf_reg': 1.6617418897728645e-06, 'bootstrap_type': 'Bayesian', 'random_strength': 4.040006068910899, 'bagging_temperature': 0.854756520263253, 'od_type': 'IncToDec', 'od_wait': 24}. Best is trial 41 with value: 0.9815627838166648.\n",
      "[I 2023-10-22 19:50:03,028] Trial 42 finished with value: 0.981484868743788 and parameters: {'iterations': 918, 'learning_rate': 0.03900689512208405, 'depth': 6, 'l2_leaf_reg': 1.6919081025623054e-06, 'bootstrap_type': 'Bayesian', 'random_strength': 3.8196745248583444, 'bagging_temperature': 0.7665639208606224, 'od_type': 'IncToDec', 'od_wait': 25}. Best is trial 41 with value: 0.9815627838166648.\n",
      "[I 2023-10-22 19:50:04,344] Trial 43 finished with value: 0.9812666144727666 and parameters: {'iterations': 703, 'learning_rate': 0.03870659078740892, 'depth': 6, 'l2_leaf_reg': 1.3852962000048506e-06, 'bootstrap_type': 'Bayesian', 'random_strength': 4.211508955663822, 'bagging_temperature': 0.6044955271304363, 'od_type': 'IncToDec', 'od_wait': 23}. Best is trial 41 with value: 0.9815627838166648.\n",
      "[I 2023-10-22 19:50:05,448] Trial 44 finished with value: 0.9815384331268816 and parameters: {'iterations': 582, 'learning_rate': 0.025523810100284587, 'depth': 6, 'l2_leaf_reg': 2.0400839054672777e-06, 'bootstrap_type': 'Bayesian', 'random_strength': 6.215099794669706, 'bagging_temperature': 0.5879342319984554, 'od_type': 'IncToDec', 'od_wait': 23}. Best is trial 41 with value: 0.9815627838166648.\n",
      "[I 2023-10-22 19:50:07,424] Trial 45 finished with value: 0.9809317369222958 and parameters: {'iterations': 553, 'learning_rate': 0.02556657252375925, 'depth': 7, 'l2_leaf_reg': 1.989419742752251e-06, 'bootstrap_type': 'Bayesian', 'random_strength': 4.70865779141676, 'bagging_temperature': 0.5993835290351803, 'od_type': 'IncToDec', 'od_wait': 24}. Best is trial 41 with value: 0.9815627838166648.\n",
      "[I 2023-10-22 19:50:10,520] Trial 46 finished with value: 0.9814936185256357 and parameters: {'iterations': 627, 'learning_rate': 0.03725584002809301, 'depth': 7, 'l2_leaf_reg': 8.898430634228926e-06, 'bootstrap_type': 'Bayesian', 'random_strength': 1.205705678979822, 'bagging_temperature': 0.06698849901367998, 'od_type': 'IncToDec', 'od_wait': 19}. Best is trial 41 with value: 0.9815627838166648.\n",
      "[I 2023-10-22 19:50:12,679] Trial 47 finished with value: 0.9803184954127234 and parameters: {'iterations': 425, 'learning_rate': 0.01982618291645653, 'depth': 8, 'l2_leaf_reg': 7.45355083321121e-06, 'bootstrap_type': 'Bayesian', 'random_strength': 6.5033758743230345, 'bagging_temperature': 0.42390683707085697, 'od_type': 'IncToDec', 'od_wait': 13}. Best is trial 41 with value: 0.9815627838166648.\n",
      "[I 2023-10-22 19:50:14,590] Trial 48 finished with value: 0.9814756716308434 and parameters: {'iterations': 640, 'learning_rate': 0.03282391370873465, 'depth': 7, 'l2_leaf_reg': 8.716664061038657e-06, 'bootstrap_type': 'Bayesian', 'random_strength': 1.1161824251779693, 'bagging_temperature': 0.07316552419507572, 'od_type': 'IncToDec', 'od_wait': 18}. Best is trial 41 with value: 0.9815627838166648.\n",
      "[I 2023-10-22 19:50:25,444] Trial 49 finished with value: 0.9805273118315725 and parameters: {'iterations': 599, 'learning_rate': 0.029751735796441726, 'depth': 10, 'l2_leaf_reg': 1.815075189767085e-05, 'bootstrap_type': 'Bayesian', 'random_strength': 0.9684824242045148, 'bagging_temperature': 0.005020839802556298, 'od_type': 'IncToDec', 'od_wait': 19}. Best is trial 41 with value: 0.9815627838166648.\n",
      "[I 2023-10-22 19:50:27,250] Trial 50 finished with value: 0.9809086328749479 and parameters: {'iterations': 354, 'learning_rate': 0.021408555854832603, 'depth': 8, 'l2_leaf_reg': 5.068777795352687e-06, 'bootstrap_type': 'Bayesian', 'random_strength': 1.1810833297141692, 'bagging_temperature': 0.021329968547627406, 'od_type': 'IncToDec', 'od_wait': 16}. Best is trial 41 with value: 0.9815627838166648.\n",
      "[I 2023-10-22 19:50:29,293] Trial 51 finished with value: 0.9816529620862571 and parameters: {'iterations': 691, 'learning_rate': 0.03587913791589667, 'depth': 7, 'l2_leaf_reg': 9.906313448280334e-07, 'bootstrap_type': 'Bayesian', 'random_strength': 7.5959702366346935, 'bagging_temperature': 0.6625218142486491, 'od_type': 'IncToDec', 'od_wait': 22}. Best is trial 51 with value: 0.9816529620862571.\n",
      "[I 2023-10-22 19:50:31,195] Trial 52 finished with value: 0.9815928705328776 and parameters: {'iterations': 491, 'learning_rate': 0.035545252856690406, 'depth': 7, 'l2_leaf_reg': 7.380285370867288e-07, 'bootstrap_type': 'Bayesian', 'random_strength': 9.802908721019481, 'bagging_temperature': 0.528971919122933, 'od_type': 'IncToDec', 'od_wait': 21}. Best is trial 51 with value: 0.9816529620862571.\n",
      "[I 2023-10-22 19:50:32,585] Trial 53 finished with value: 0.9801925130626389 and parameters: {'iterations': 451, 'learning_rate': 0.028463780431191073, 'depth': 7, 'l2_leaf_reg': 6.498937440170845e-08, 'bootstrap_type': 'Bayesian', 'random_strength': 6.1783909014098, 'bagging_temperature': 0.5235124239445513, 'od_type': 'IncToDec', 'od_wait': 21}. Best is trial 51 with value: 0.9816529620862571.\n",
      "[I 2023-10-22 19:50:35,769] Trial 54 finished with value: 0.9812277429645113 and parameters: {'iterations': 510, 'learning_rate': 0.037393070699902144, 'depth': 7, 'l2_leaf_reg': 2.7403107236258742e-06, 'bootstrap_type': 'Bayesian', 'random_strength': 8.595290169418945, 'bagging_temperature': 1.6614517769524546, 'od_type': 'IncToDec', 'od_wait': 14}. Best is trial 51 with value: 0.9816529620862571.\n",
      "[I 2023-10-22 19:50:38,137] Trial 55 finished with value: 0.9816596440678595 and parameters: {'iterations': 801, 'learning_rate': 0.01902290656581933, 'depth': 7, 'l2_leaf_reg': 6.624038049378077e-07, 'bootstrap_type': 'Bayesian', 'random_strength': 9.955812628064585, 'bagging_temperature': 0.5149436857900486, 'od_type': 'IncToDec', 'od_wait': 21}. Best is trial 55 with value: 0.9816596440678595.\n",
      "[I 2023-10-22 19:50:45,586] Trial 56 finished with value: 0.9810084790500336 and parameters: {'iterations': 813, 'learning_rate': 0.016642753856071307, 'depth': 9, 'l2_leaf_reg': 7.302970658721467e-07, 'bootstrap_type': 'Bayesian', 'random_strength': 1.7502270062187468, 'bagging_temperature': 0.4311898822063512, 'od_type': 'IncToDec', 'od_wait': 22}. Best is trial 55 with value: 0.9816596440678595.\n",
      "[I 2023-10-22 19:50:48,610] Trial 57 finished with value: 0.9790007148953788 and parameters: {'iterations': 285, 'learning_rate': 0.02659406360959495, 'depth': 8, 'l2_leaf_reg': 5.179325121444598e-08, 'bootstrap_type': 'Bayesian', 'random_strength': 8.65592134308388, 'bagging_temperature': 1.4906621830633655, 'od_type': 'Iter', 'od_wait': 20}. Best is trial 55 with value: 0.9816596440678595.\n",
      "[I 2023-10-22 19:50:50,125] Trial 58 finished with value: 0.9797818539124895 and parameters: {'iterations': 497, 'learning_rate': 0.019785315143157126, 'depth': 7, 'l2_leaf_reg': 4.807296371975684e-07, 'bootstrap_type': 'Bayesian', 'random_strength': 0.22568507315558836, 'bagging_temperature': 1.2495834512546384, 'od_type': 'IncToDec', 'od_wait': 10}. Best is trial 55 with value: 0.9816596440678595.\n",
      "[I 2023-10-22 19:50:50,579] Trial 59 finished with value: 0.9604872433091217 and parameters: {'iterations': 127, 'learning_rate': 0.02410951074687239, 'depth': 7, 'l2_leaf_reg': 1.2885451719905949e-07, 'bootstrap_type': 'Bayesian', 'random_strength': 9.679009253827855, 'bagging_temperature': 1.9227634291462323, 'od_type': 'IncToDec', 'od_wait': 17}. Best is trial 55 with value: 0.9816596440678595.\n",
      "[I 2023-10-22 19:50:52,632] Trial 60 finished with value: 0.9812214097212767 and parameters: {'iterations': 686, 'learning_rate': 0.032212039999729436, 'depth': 7, 'l2_leaf_reg': 2.5726947164240766e-08, 'bootstrap_type': 'Bayesian', 'random_strength': 2.045125963925302, 'bagging_temperature': 0.3862426123121959, 'od_type': 'IncToDec', 'od_wait': 23}. Best is trial 55 with value: 0.9816596440678595.\n",
      "[I 2023-10-22 19:50:55,243] Trial 61 finished with value: 0.9809194009674985 and parameters: {'iterations': 867, 'learning_rate': 0.035365798438747584, 'depth': 7, 'l2_leaf_reg': 9.559052829290966e-07, 'bootstrap_type': 'Bayesian', 'random_strength': 3.0850630181324368, 'bagging_temperature': 0.5051951798673955, 'od_type': 'IncToDec', 'od_wait': 20}. Best is trial 55 with value: 0.9816596440678595.\n",
      "[I 2023-10-22 19:51:00,047] Trial 62 finished with value: 0.981219381939243 and parameters: {'iterations': 774, 'learning_rate': 0.028611036077718692, 'depth': 8, 'l2_leaf_reg': 2.3617807933335274e-06, 'bootstrap_type': 'Bayesian', 'random_strength': 0.6470835362078493, 'bagging_temperature': 0.8149062310376078, 'od_type': 'IncToDec', 'od_wait': 25}. Best is trial 55 with value: 0.9816596440678595.\n",
      "[I 2023-10-22 19:51:02,012] Trial 63 finished with value: 0.9816862941032258 and parameters: {'iterations': 638, 'learning_rate': 0.03931627209319713, 'depth': 6, 'l2_leaf_reg': 5.613002336440253e-07, 'bootstrap_type': 'Bayesian', 'random_strength': 4.441136307207022, 'bagging_temperature': 1.1734141923207297, 'od_type': 'IncToDec', 'od_wait': 22}. Best is trial 63 with value: 0.9816862941032258.\n",
      "[I 2023-10-22 19:51:03,196] Trial 64 finished with value: 0.9817850411575422 and parameters: {'iterations': 616, 'learning_rate': 0.04789154304068213, 'depth': 6, 'l2_leaf_reg': 6.142734631831166e-07, 'bootstrap_type': 'Bayesian', 'random_strength': 1.9073886138484213, 'bagging_temperature': 1.125291539755598, 'od_type': 'IncToDec', 'od_wait': 21}. Best is trial 64 with value: 0.9817850411575422.\n",
      "[I 2023-10-22 19:51:04,310] Trial 65 finished with value: 0.9814746431544404 and parameters: {'iterations': 578, 'learning_rate': 0.05231850709066773, 'depth': 6, 'l2_leaf_reg': 5.615541437618158e-07, 'bootstrap_type': 'Bayesian', 'random_strength': 2.072358000262358, 'bagging_temperature': 1.1900999307719244, 'od_type': 'Iter', 'od_wait': 22}. Best is trial 64 with value: 0.9817850411575422.\n",
      "[I 2023-10-22 19:51:05,720] Trial 66 finished with value: 0.9797482984494995 and parameters: {'iterations': 724, 'learning_rate': 0.044361644811147224, 'depth': 6, 'l2_leaf_reg': 7.401461700322103e-07, 'bootstrap_type': 'Bayesian', 'random_strength': 0.341610910058774, 'bagging_temperature': 2.1259729205818525, 'od_type': 'IncToDec', 'od_wait': 21}. Best is trial 64 with value: 0.9817850411575422.\n",
      "[I 2023-10-22 19:51:06,682] Trial 67 finished with value: 0.9809596707289014 and parameters: {'iterations': 494, 'learning_rate': 0.0295727858368634, 'depth': 6, 'l2_leaf_reg': 1.6926032391354637e-07, 'bootstrap_type': 'Bayesian', 'random_strength': 0.6466687717764757, 'bagging_temperature': 1.5699471266027798, 'od_type': 'IncToDec', 'od_wait': 16}. Best is trial 64 with value: 0.9817850411575422.\n",
      "[I 2023-10-22 19:51:10,103] Trial 68 finished with value: 0.9791735440841735 and parameters: {'iterations': 372, 'learning_rate': 0.025632428437296663, 'depth': 9, 'l2_leaf_reg': 3.9230258511963667e-07, 'bootstrap_type': 'Bayesian', 'random_strength': 5.269269904623153, 'bagging_temperature': 1.5884354914405394, 'od_type': 'IncToDec', 'od_wait': 24}. Best is trial 64 with value: 0.9817850411575422.\n",
      "[I 2023-10-22 19:51:11,104] Trial 69 finished with value: 0.9812128354430241 and parameters: {'iterations': 663, 'learning_rate': 0.04859301923432985, 'depth': 5, 'l2_leaf_reg': 9.26824120562378e-08, 'bootstrap_type': 'Bayesian', 'random_strength': 0.15205770378493955, 'bagging_temperature': 1.1428453900572308, 'od_type': 'IncToDec', 'od_wait': 19}. Best is trial 64 with value: 0.9817850411575422.\n",
      "[I 2023-10-22 19:51:14,318] Trial 70 finished with value: 0.9822173358002635 and parameters: {'iterations': 835, 'learning_rate': 0.02244376876405416, 'depth': 6, 'l2_leaf_reg': 5.1049882325711326e-08, 'bootstrap_type': 'Bayesian', 'random_strength': 2.228058694776536, 'bagging_temperature': 1.8498408203849248, 'od_type': 'Iter', 'od_wait': 23}. Best is trial 70 with value: 0.9822173358002635.\n",
      "[I 2023-10-22 19:51:15,822] Trial 71 finished with value: 0.981511031761426 and parameters: {'iterations': 827, 'learning_rate': 0.01797457658622994, 'depth': 6, 'l2_leaf_reg': 4.791764798643497e-08, 'bootstrap_type': 'Bayesian', 'random_strength': 9.691816300314915, 'bagging_temperature': 1.9613805085422096, 'od_type': 'Iter', 'od_wait': 23}. Best is trial 70 with value: 0.9822173358002635.\n",
      "[I 2023-10-22 19:51:17,283] Trial 72 finished with value: 0.9815556058488557 and parameters: {'iterations': 765, 'learning_rate': 0.0124712522157362, 'depth': 6, 'l2_leaf_reg': 2.076002827364022e-07, 'bootstrap_type': 'Bayesian', 'random_strength': 2.176553342314706, 'bagging_temperature': 1.0203223607096015, 'od_type': 'Iter', 'od_wait': 21}. Best is trial 70 with value: 0.9822173358002635.\n",
      "[I 2023-10-22 19:51:18,726] Trial 73 finished with value: 0.981362945127461 and parameters: {'iterations': 764, 'learning_rate': 0.011500059644437831, 'depth': 6, 'l2_leaf_reg': 2.3636556009926223e-08, 'bootstrap_type': 'Bayesian', 'random_strength': 2.314533861993007, 'bagging_temperature': 1.0300244936817193, 'od_type': 'Iter', 'od_wait': 21}. Best is trial 70 with value: 0.9822173358002635.\n",
      "[I 2023-10-22 19:51:20,952] Trial 74 finished with value: 0.9797674530118831 and parameters: {'iterations': 723, 'learning_rate': 0.022357733473310083, 'depth': 7, 'l2_leaf_reg': 2.9840470465596216e-07, 'bootstrap_type': 'Bayesian', 'random_strength': 0.7735748212995104, 'bagging_temperature': 2.675507840577322, 'od_type': 'Iter', 'od_wait': 18}. Best is trial 70 with value: 0.9822173358002635.\n",
      "[I 2023-10-22 19:51:21,983] Trial 75 finished with value: 0.9804398191752413 and parameters: {'iterations': 789, 'learning_rate': 0.01326926671772685, 'depth': 5, 'l2_leaf_reg': 1.888187021070614e-07, 'bootstrap_type': 'Bayesian', 'random_strength': 1.853682770073997, 'bagging_temperature': 2.2046430477049546, 'od_type': 'Iter', 'od_wait': 26}. Best is trial 70 with value: 0.9822173358002635.\n",
      "[I 2023-10-22 19:51:23,650] Trial 76 finished with value: 0.9806972919935648 and parameters: {'iterations': 886, 'learning_rate': 0.0139819599803086, 'depth': 6, 'l2_leaf_reg': 4.980349110725655e-07, 'bootstrap_type': 'Bayesian', 'random_strength': 0.37385755028623713, 'bagging_temperature': 1.4234654701050145, 'od_type': 'Iter', 'od_wait': 20}. Best is trial 70 with value: 0.9822173358002635.\n",
      "[I 2023-10-22 19:51:27,856] Trial 77 finished with value: 0.9814928416885959 and parameters: {'iterations': 852, 'learning_rate': 0.02067031399906166, 'depth': 7, 'l2_leaf_reg': 1.8143429458026372e-07, 'bootstrap_type': 'Bayesian', 'random_strength': 3.9059201975455475, 'bagging_temperature': 1.7928998948919805, 'od_type': 'Iter', 'od_wait': 22}. Best is trial 70 with value: 0.9822173358002635.\n",
      "[I 2023-10-22 19:51:29,058] Trial 78 finished with value: 0.981855977657972 and parameters: {'iterations': 619, 'learning_rate': 0.018101305799161308, 'depth': 6, 'l2_leaf_reg': 8.290144831504737e-08, 'bootstrap_type': 'Bayesian', 'random_strength': 1.5333426997286903, 'bagging_temperature': 0.8194439157918119, 'od_type': 'Iter', 'od_wait': 17}. Best is trial 70 with value: 0.9822173358002635.\n",
      "[I 2023-10-22 19:51:30,685] Trial 79 finished with value: 0.9808498273204501 and parameters: {'iterations': 530, 'learning_rate': 0.01731744464851258, 'depth': 7, 'l2_leaf_reg': 3.4315438358844986e-08, 'bootstrap_type': 'Bayesian', 'random_strength': 0.8122069197057137, 'bagging_temperature': 0.27912040721350573, 'od_type': 'Iter', 'od_wait': 14}. Best is trial 70 with value: 0.9822173358002635.\n",
      "[I 2023-10-22 19:51:31,612] Trial 80 finished with value: 0.9818739879022448 and parameters: {'iterations': 666, 'learning_rate': 0.04097309030110964, 'depth': 5, 'l2_leaf_reg': 8.924644762561278e-08, 'bootstrap_type': 'Bayesian', 'random_strength': 4.879874800769957, 'bagging_temperature': 0.7165512141235865, 'od_type': 'Iter', 'od_wait': 17}. Best is trial 70 with value: 0.9822173358002635.\n",
      "[I 2023-10-22 19:51:32,456] Trial 81 finished with value: 0.9808773709076971 and parameters: {'iterations': 619, 'learning_rate': 0.03388793933812383, 'depth': 5, 'l2_leaf_reg': 1.7893437321852986e-08, 'bootstrap_type': 'Bayesian', 'random_strength': 5.59989423193523, 'bagging_temperature': 0.7723507363777667, 'od_type': 'Iter', 'od_wait': 17}. Best is trial 70 with value: 0.9822173358002635.\n",
      "[I 2023-10-22 19:51:33,090] Trial 82 finished with value: 0.9822352273219545 and parameters: {'iterations': 649, 'learning_rate': 0.04251436855782874, 'depth': 4, 'l2_leaf_reg': 1.1014520129772767e-08, 'bootstrap_type': 'Bayesian', 'random_strength': 2.875839520359937, 'bagging_temperature': 1.1752369123807553, 'od_type': 'Iter', 'od_wait': 15}. Best is trial 82 with value: 0.9822352273219545.\n",
      "[I 2023-10-22 19:51:33,766] Trial 83 finished with value: 0.9812466102172419 and parameters: {'iterations': 680, 'learning_rate': 0.04917286264860307, 'depth': 4, 'l2_leaf_reg': 7.794501311517223e-08, 'bootstrap_type': 'Bayesian', 'random_strength': 1.3954504113277701, 'bagging_temperature': 0.2930545639505442, 'od_type': 'Iter', 'od_wait': 13}. Best is trial 82 with value: 0.9822352273219545.\n",
      "[I 2023-10-22 19:51:34,428] Trial 84 finished with value: 0.9818010015631085 and parameters: {'iterations': 655, 'learning_rate': 0.044261831603279386, 'depth': 4, 'l2_leaf_reg': 1.0942416001651256e-08, 'bootstrap_type': 'Bayesian', 'random_strength': 3.0264127750018455, 'bagging_temperature': 1.2379441131035562, 'od_type': 'Iter', 'od_wait': 12}. Best is trial 82 with value: 0.9822352273219545.\n",
      "[I 2023-10-22 19:51:35,088] Trial 85 finished with value: 0.9808126329614325 and parameters: {'iterations': 661, 'learning_rate': 0.057601728457727513, 'depth': 4, 'l2_leaf_reg': 1.2748329702385232e-08, 'bootstrap_type': 'Bayesian', 'random_strength': 0.3102483600350523, 'bagging_temperature': 1.2769087105365315, 'od_type': 'Iter', 'od_wait': 11}. Best is trial 82 with value: 0.9822352273219545.\n",
      "[I 2023-10-22 19:51:35,673] Trial 86 finished with value: 0.9821137411952578 and parameters: {'iterations': 563, 'learning_rate': 0.04017383049267224, 'depth': 4, 'l2_leaf_reg': 3.781429856351345e-08, 'bootstrap_type': 'Bayesian', 'random_strength': 3.2878783117370114, 'bagging_temperature': 1.743727545919044, 'od_type': 'Iter', 'od_wait': 12}. Best is trial 82 with value: 0.9822352273219545.\n",
      "[I 2023-10-22 19:51:36,247] Trial 87 finished with value: 0.9816071829650598 and parameters: {'iterations': 569, 'learning_rate': 0.0400405674522944, 'depth': 4, 'l2_leaf_reg': 1.4268915682283029e-08, 'bootstrap_type': 'Bayesian', 'random_strength': 2.8569950667432593, 'bagging_temperature': 1.488158827586246, 'od_type': 'Iter', 'od_wait': 12}. Best is trial 82 with value: 0.9822352273219545.\n",
      "[I 2023-10-22 19:51:36,876] Trial 88 finished with value: 0.9812940741069717 and parameters: {'iterations': 610, 'learning_rate': 0.04385921562071184, 'depth': 4, 'l2_leaf_reg': 3.4290705898609056e-08, 'bootstrap_type': 'Bayesian', 'random_strength': 0.638106984555674, 'bagging_temperature': 1.8978124174053868, 'od_type': 'Iter', 'od_wait': 15}. Best is trial 82 with value: 0.9822352273219545.\n",
      "[I 2023-10-22 19:51:38,230] Trial 89 finished with value: 0.9810834916421279 and parameters: {'iterations': 737, 'learning_rate': 0.050402886989021276, 'depth': 4, 'l2_leaf_reg': 1.0276074394380778e-08, 'bootstrap_type': 'Bayesian', 'random_strength': 1.5418195973531248, 'bagging_temperature': 1.1408808345715293, 'od_type': 'Iter', 'od_wait': 12}. Best is trial 82 with value: 0.9822352273219545.\n",
      "[I 2023-10-22 19:51:39,326] Trial 90 finished with value: 0.9804445920486148 and parameters: {'iterations': 450, 'learning_rate': 0.022700245076539543, 'depth': 4, 'l2_leaf_reg': 3.573535188450937e-08, 'bootstrap_type': 'Bayesian', 'random_strength': 0.4435099511207722, 'bagging_temperature': 1.7755494899879853, 'od_type': 'Iter', 'od_wait': 15}. Best is trial 82 with value: 0.9822352273219545.\n",
      "[I 2023-10-22 19:51:40,352] Trial 91 finished with value: 0.982124764859527 and parameters: {'iterations': 696, 'learning_rate': 0.03128540608924495, 'depth': 4, 'l2_leaf_reg': 6.06956824133214e-08, 'bootstrap_type': 'Bayesian', 'random_strength': 5.264959647896761, 'bagging_temperature': 0.8054093303539278, 'od_type': 'Iter', 'od_wait': 16}. Best is trial 82 with value: 0.9822352273219545.\n",
      "[I 2023-10-22 19:51:41,004] Trial 92 finished with value: 0.9812667696386024 and parameters: {'iterations': 646, 'learning_rate': 0.032553353412426864, 'depth': 4, 'l2_leaf_reg': 7.738787879774673e-08, 'bootstrap_type': 'Bayesian', 'random_strength': 3.1310240803678866, 'bagging_temperature': 1.354292125330171, 'od_type': 'Iter', 'od_wait': 16}. Best is trial 82 with value: 0.9822352273219545.\n",
      "[I 2023-10-22 19:51:41,580] Trial 93 finished with value: 0.9813267022813145 and parameters: {'iterations': 540, 'learning_rate': 0.0284087295899368, 'depth': 4, 'l2_leaf_reg': 2.1675665345661186e-08, 'bootstrap_type': 'Bayesian', 'random_strength': 5.277714151848834, 'bagging_temperature': 1.004957108298116, 'od_type': 'Iter', 'od_wait': 10}. Best is trial 82 with value: 0.9822352273219545.\n",
      "[I 2023-10-22 19:51:42,271] Trial 94 finished with value: 0.9815556430487214 and parameters: {'iterations': 710, 'learning_rate': 0.04185362280311221, 'depth': 4, 'l2_leaf_reg': 1.1776958526740857e-07, 'bootstrap_type': 'Bayesian', 'random_strength': 0.9199176234500698, 'bagging_temperature': 0.7658728367270073, 'od_type': 'Iter', 'od_wait': 14}. Best is trial 82 with value: 0.9822352273219545.\n",
      "[I 2023-10-22 19:51:43,084] Trial 95 finished with value: 0.9811532710208843 and parameters: {'iterations': 601, 'learning_rate': 0.04597975217819761, 'depth': 5, 'l2_leaf_reg': 4.90408633274769e-08, 'bootstrap_type': 'Bayesian', 'random_strength': 1.361284149481886, 'bagging_temperature': 1.6176636302674048, 'od_type': 'Iter', 'od_wait': 13}. Best is trial 82 with value: 0.9822352273219545.\n",
      "[I 2023-10-22 19:51:44,142] Trial 96 finished with value: 0.9811664489753692 and parameters: {'iterations': 813, 'learning_rate': 0.059885890438488104, 'depth': 5, 'l2_leaf_reg': 1.8251645039002174e-08, 'bootstrap_type': 'Bayesian', 'random_strength': 2.756068522365828, 'bagging_temperature': 2.089943129619666, 'od_type': 'Iter', 'od_wait': 12}. Best is trial 82 with value: 0.9822352273219545.\n",
      "[I 2023-10-22 19:51:44,774] Trial 97 finished with value: 0.9818321358017961 and parameters: {'iterations': 636, 'learning_rate': 0.05507614430635866, 'depth': 4, 'l2_leaf_reg': 1.0308986481961236e-08, 'bootstrap_type': 'Bayesian', 'random_strength': 4.8790051091126205, 'bagging_temperature': 0.21679127443900192, 'od_type': 'Iter', 'od_wait': 18}. Best is trial 82 with value: 0.9822352273219545.\n",
      "[I 2023-10-22 19:51:45,421] Trial 98 finished with value: 0.9816557675164764 and parameters: {'iterations': 650, 'learning_rate': 0.054564584516708654, 'depth': 4, 'l2_leaf_reg': 1.2386349779966337e-08, 'bootstrap_type': 'Bayesian', 'random_strength': 5.334024470304229, 'bagging_temperature': 0.3034512193547727, 'od_type': 'Iter', 'od_wait': 16}. Best is trial 82 with value: 0.9822352273219545.\n",
      "[I 2023-10-22 19:51:46,006] Trial 99 finished with value: 0.9811189830087264 and parameters: {'iterations': 576, 'learning_rate': 0.04132094374614472, 'depth': 4, 'l2_leaf_reg': 2.984121098039925e-08, 'bootstrap_type': 'Bayesian', 'random_strength': 1.0567783451055435, 'bagging_temperature': 2.408022232509494, 'od_type': 'Iter', 'od_wait': 18}. Best is trial 82 with value: 0.9822352273219545.\n"
     ]
    }
   ],
   "source": [
    "study = optuna.create_study(direction=\"maximize\")\n",
    "study.optimize(objective, n_trials=100, timeout=600)"
   ]
  },
  {
   "cell_type": "code",
   "execution_count": 17,
   "id": "_Wz8eXjy7eM-",
   "metadata": {
    "colab": {
     "base_uri": "https://localhost:8080/"
    },
    "id": "_Wz8eXjy7eM-",
    "outputId": "2c93e90e-09c8-4af1-acf8-7edb5fd3c828"
   },
   "outputs": [
    {
     "name": "stdout",
     "output_type": "stream",
     "text": [
      "Number of finished trials: 100\n",
      "Best trial:\n",
      "  Value: 0.9822352273219545\n",
      "  Params: \n",
      "    iterations: 649\n",
      "    learning_rate: 0.04251436855782874\n",
      "    depth: 4\n",
      "    l2_leaf_reg: 1.1014520129772767e-08\n",
      "    bootstrap_type: Bayesian\n",
      "    random_strength: 2.875839520359937\n",
      "    bagging_temperature: 1.1752369123807553\n",
      "    od_type: Iter\n",
      "    od_wait: 15\n"
     ]
    }
   ],
   "source": [
    "print(\"Number of finished trials: {}\".format(len(study.trials)))\n",
    "\n",
    "print(\"Best trial:\")\n",
    "trial = study.best_trial\n",
    "\n",
    "print(\"  Value: {}\".format(trial.value))\n",
    "\n",
    "print(\"  Params: \")\n",
    "for key, value in trial.params.items():\n",
    "    print(\"    {}: {}\".format(key, value))"
   ]
  },
  {
   "cell_type": "code",
   "execution_count": 18,
   "id": "99DZlQRn_zr2",
   "metadata": {
    "id": "99DZlQRn_zr2"
   },
   "outputs": [],
   "source": [
    "cat = CatBoostRegressor(verbose = 0, loss_function='MAE', iterations = 649,\n",
    " learning_rate =  0.04251436855782874,\n",
    " depth = 4,\n",
    " l2_leaf_reg =   1.1014520129772767e-08,\n",
    " bootstrap_type = 'Bayesian',\n",
    " random_strength = 2.875839520359937,\n",
    " bagging_temperature =  1.1752369123807553,\n",
    " od_type = 'Iter',\n",
    " od_wait = 15)"
   ]
  },
  {
   "cell_type": "markdown",
   "id": "e97e4e51-17d0-4f6a-85a9-db38dd159697",
   "metadata": {},
   "source": [
    "### Валидация. Значимость признаков."
   ]
  },
  {
   "cell_type": "code",
   "execution_count": null,
   "id": "234960d3-178f-4c2c-b844-03f08710d65c",
   "metadata": {},
   "outputs": [],
   "source": [
    "def time_cross_validate(x, y, model, n_folds = 14):\n",
    "\n",
    "    errors_test = []\n",
    "    errors_train = []\n",
    "    step = int(len(x) / n_folds) - 1\n",
    "    for i in range(n_folds):\n",
    "\n",
    "        model.fit(x[: step * (1 + i)], y[: step * (1 + i)])\n",
    "\n",
    "        predictions = model.predict(x[step * (i + 1): step * (2 + i)])\n",
    "        actual = y[step * (i + 1): step * (2 + i)]\n",
    "        error = mae(predictions, actual)\n",
    "        print('MAE = {}'.format(error))\n",
    "        errors_test.append(error)\n",
    "\n",
    "        predictions = model.predict(x[: step * (1 + i)])\n",
    "        actual = y[: step * (1 + i)]\n",
    "        error = mae(predictions, actual)\n",
    "        errors_train.append(error)\n",
    "    plt.grid(True)\n",
    "    plt.plot([x for x in range(len(errors_train))], errors_train, color = 'red', label = 'train')\n",
    "    plt.plot([x for x in range(len(errors_test))], errors_test, color = 'blue', label = 'test')\n",
    "    plt.xlim(0)\n",
    "    plt.legend()\n",
    "    plt.show()\n",
    "\n",
    "    feature_importance = model.feature_importances_\n",
    "    sorted_idx = np.argsort(feature_importance)\n",
    "    fig = plt.figure(figsize=(12, 6))\n",
    "    plt.barh(range(len(sorted_idx)), feature_importance[sorted_idx], align='center')\n",
    "    plt.yticks(range(len(sorted_idx)), np.array(df_train.drop(['target'], axis = 1).columns)[sorted_idx])\n",
    "    plt.title('Feature Importance');\n",
    "\n",
    "    return np.mean(np.array(errors_test))"
   ]
  },
  {
   "cell_type": "code",
   "execution_count": 24,
   "id": "CA9b3i0nAKQT",
   "metadata": {
    "colab": {
     "base_uri": "https://localhost:8080/",
     "height": 1000
    },
    "id": "CA9b3i0nAKQT",
    "outputId": "4eb0d0b1-86cc-4ba1-9964-1338aef0e9f2"
   },
   "outputs": [
    {
     "name": "stdout",
     "output_type": "stream",
     "text": [
      "MAE = 688.426593506112\n",
      "MAE = 334.67503780375034\n",
      "MAE = 195.28996769657147\n",
      "MAE = 393.30085798830504\n",
      "MAE = 206.64052035643988\n",
      "MAE = 285.1623066693924\n",
      "MAE = 269.91190934535547\n",
      "MAE = 140.12346833332762\n",
      "MAE = 308.19505958545074\n",
      "MAE = 237.36888612434367\n",
      "MAE = 176.10543418155257\n",
      "MAE = 179.4052046093463\n",
      "MAE = 223.3866966091017\n",
      "MAE = 254.35276704951994\n"
     ]
    },
    {
     "data": {
      "image/png": "[encoded data removed]",
      "text/plain": [
       "<Figure size 640x480 with 1 Axes>"
      ]
     },
     "metadata": {},
     "output_type": "display_data"
    },
    {
     "data": {
      "text/plain": [
       "278.0246221327549"
      ]
     },
     "execution_count": 24,
     "metadata": {},
     "output_type": "execute_result"
    },
    {
     "data": {
      "image/png": "[encoded data removed]",
      "text/plain": [
       "<Figure size 1200x600 with 1 Axes>"
      ]
     },
     "metadata": {},
     "output_type": "display_data"
    }
   ],
   "source": [
    "time_cross_validate(X, y, cat, n_folds = 14)"
   ]
  },
  {
   "cell_type": "markdown",
   "id": "e45ac07d-ff2a-400e-a2ee-0788a4f1e8e4",
   "metadata": {},
   "source": [
    "### Метрики на тестовом и тренировочном наборах."
   ]
  },
  {
   "cell_type": "code",
   "execution_count": 25,
   "id": "OKi38_FpEnok",
   "metadata": {
    "colab": {
     "base_uri": "https://localhost:8080/"
    },
    "id": "OKi38_FpEnok",
    "outputId": "694f885f-dfbd-42c5-9fd6-f36dce6d2353"
   },
   "outputs": [
    {
     "name": "stdout",
     "output_type": "stream",
     "text": [
      "mae test = 173.29291141714\n"
     ]
    }
   ],
   "source": [
    "print('mae test = {}'.format(mae(cat.predict(X_test), y_test)))"
   ]
  },
  {
   "cell_type": "code",
   "execution_count": 26,
   "id": "A4EZVnUAFEka",
   "metadata": {
    "colab": {
     "base_uri": "https://localhost:8080/"
    },
    "id": "A4EZVnUAFEka",
    "outputId": "27a6d305-f20b-4167-a105-696becb08752"
   },
   "outputs": [
    {
     "name": "stdout",
     "output_type": "stream",
     "text": [
      "mae train = 157.16685653698443\n"
     ]
    }
   ],
   "source": [
    "print('mae train = {}'.format(mae(cat.predict(X), y)))"
   ]
  },
  {
   "cell_type": "code",
   "execution_count": 27,
   "id": "Zkfq71J6FIst",
   "metadata": {
    "colab": {
     "base_uri": "https://localhost:8080/"
    },
    "id": "Zkfq71J6FIst",
    "outputId": "206c5c49-da20-4c40-8204-e549e1407303"
   },
   "outputs": [
    {
     "name": "stdout",
     "output_type": "stream",
     "text": [
      "mape test = 0.0168027782217422\n"
     ]
    }
   ],
   "source": [
    "print('mape test = {}'.format(mape(cat.predict(X_test), y_test)))"
   ]
  },
  {
   "cell_type": "code",
   "execution_count": 28,
   "id": "BQQYgPpbFWR9",
   "metadata": {
    "colab": {
     "base_uri": "https://localhost:8080/"
    },
    "id": "BQQYgPpbFWR9",
    "outputId": "974111f9-f001-46bd-f855-afc168871f86"
   },
   "outputs": [
    {
     "name": "stdout",
     "output_type": "stream",
     "text": [
      "mape train = 0.013694168425606314\n"
     ]
    }
   ],
   "source": [
    "print('mape train = {}'.format(mape(cat.predict(X), y)))"
   ]
  },
  {
   "cell_type": "code",
   "execution_count": 29,
   "id": "Tz3vDM5mFcDX",
   "metadata": {
    "colab": {
     "base_uri": "https://localhost:8080/"
    },
    "id": "Tz3vDM5mFcDX",
    "outputId": "8adc7a3e-93f5-4cd3-efd8-aa1e567bbb45"
   },
   "outputs": [
    {
     "name": "stdout",
     "output_type": "stream",
     "text": [
      "r2 test = 0.9354355952688138\n"
     ]
    }
   ],
   "source": [
    "print('r2 test = {}'.format(r2(cat.predict(X_test), y_test)))"
   ]
  },
  {
   "cell_type": "code",
   "execution_count": 30,
   "id": "InimYJFPFfvP",
   "metadata": {
    "colab": {
     "base_uri": "https://localhost:8080/"
    },
    "id": "InimYJFPFfvP",
    "outputId": "b136e7e2-25fa-435b-80d2-2ad44a3fc907"
   },
   "outputs": [
    {
     "name": "stdout",
     "output_type": "stream",
     "text": [
      "r2 train = 0.9840980898108405\n"
     ]
    }
   ],
   "source": [
    "print('r2 train = {}'.format(r2(cat.predict(X), y)))"
   ]
  },
  {
   "cell_type": "markdown",
   "id": "3c675436-46cd-49c2-bde2-eb2120ff26bb",
   "metadata": {},
   "source": [
    "### Визуальное сравнение предсказания с истиными значениями на тестовом и тренировочном наборах."
   ]
  },
  {
   "cell_type": "code",
   "execution_count": 38,
   "id": "maH3LWQJFvuV",
   "metadata": {
    "colab": {
     "base_uri": "https://localhost:8080/",
     "height": 452
    },
    "id": "maH3LWQJFvuV",
    "outputId": "b5fa369b-f05b-44f0-965b-0577774aeb65"
   },
   "outputs": [
    {
     "data": {
      "image/png": "[encoded data removed]",
      "text/plain": [
       "<Figure size 640x480 with 1 Axes>"
      ]
     },
     "metadata": {},
     "output_type": "display_data"
    }
   ],
   "source": [
    "plt.grid(True)\n",
    "plt.title('Test')\n",
    "plt.plot(list(y_test)[:], color = 'red', label = 'true')\n",
    "plt.plot(list(cat.predict(X_test))[:], color = 'blue', label = 'predict')\n",
    "plt.legend()\n",
    "plt.show()"
   ]
  },
  {
   "cell_type": "code",
   "execution_count": 40,
   "id": "Pyuzk1L4FwJe",
   "metadata": {
    "colab": {
     "base_uri": "https://localhost:8080/",
     "height": 452
    },
    "id": "Pyuzk1L4FwJe",
    "outputId": "c46d1e23-9ef3-49fa-b461-ca4beaedd2a9"
   },
   "outputs": [
    {
     "data": {
      "image/png": "[encoded data removed]",
      "text/plain": [
       "<Figure size 640x480 with 1 Axes>"
      ]
     },
     "metadata": {},
     "output_type": "display_data"
    }
   ],
   "source": [
    "plt.grid(True)\n",
    "plt.title('Train')\n",
    "plt.plot(list(y)[:100], color = 'red', label = 'true')\n",
    "plt.plot(list(cat.predict(X))[:100], color = 'blue', label = 'predict')\n",
    "plt.legend()\n",
    "plt.show()"
   ]
  },
  {
   "cell_type": "markdown",
   "id": "806db034-b85b-4518-87ba-d025dda6d469",
   "metadata": {},
   "source": [
    "### Финальная модель"
   ]
  },
  {
   "cell_type": "code",
   "execution_count": 41,
   "id": "PEQJyZFjGYRt",
   "metadata": {
    "id": "PEQJyZFjGYRt"
   },
   "outputs": [],
   "source": [
    "# final model\n",
    "cat = CatBoostRegressor(verbose = 0, loss_function='MAE', iterations = 649,\n",
    " learning_rate =  0.04251436855782874,\n",
    " depth = 4,\n",
    " l2_leaf_reg =   1.1014520129772767e-08,\n",
    " bootstrap_type = 'Bayesian',\n",
    " random_strength = 2.875839520359937,\n",
    " bagging_temperature =  1.1752369123807553,\n",
    " od_type = 'Iter',\n",
    " od_wait = 15)"
   ]
  },
  {
   "cell_type": "code",
   "execution_count": 44,
   "id": "q0X7902iGqFu",
   "metadata": {
    "id": "q0X7902iGqFu"
   },
   "outputs": [],
   "source": [
    "X_all = concat([X, X_test])\n",
    "y_all = concat([y, y_test])"
   ]
  },
  {
   "cell_type": "code",
   "execution_count": 43,
   "id": "7zOgNBpTGwk1",
   "metadata": {
    "colab": {
     "base_uri": "https://localhost:8080/",
     "height": 450
    },
    "id": "7zOgNBpTGwk1",
    "outputId": "d2de2386-65cd-4f50-a2b5-feb7d9a902cb"
   },
   "outputs": [
    {
     "data": {
      "text/html": [
       "\n",
       "  <div id=\"df-0eaf5a68-fc66-4acb-bf6a-4cdac6fc5064\" class=\"colab-df-container\">\n",
       "    <div>\n",
       "<style scoped>\n",
       "    .dataframe tbody tr th:only-of-type {\n",
       "        vertical-align: middle;\n",
       "    }\n",
       "\n",
       "    .dataframe tbody tr th {\n",
       "        vertical-align: top;\n",
       "    }\n",
       "\n",
       "    .dataframe thead th {\n",
       "        text-align: right;\n",
       "    }\n",
       "</style>\n",
       "<table border=\"1\" class=\"dataframe\">\n",
       "  <thead>\n",
       "    <tr style=\"text-align: right;\">\n",
       "      <th></th>\n",
       "      <th>temp_pred</th>\n",
       "      <th>target_lag1</th>\n",
       "      <th>target_lag7</th>\n",
       "      <th>diff_lag1</th>\n",
       "      <th>diff_lag7</th>\n",
       "    </tr>\n",
       "    <tr>\n",
       "      <th>date</th>\n",
       "      <th></th>\n",
       "      <th></th>\n",
       "      <th></th>\n",
       "      <th></th>\n",
       "      <th></th>\n",
       "    </tr>\n",
       "  </thead>\n",
       "  <tbody>\n",
       "    <tr>\n",
       "      <th>2019-01-09</th>\n",
       "      <td>-0.500</td>\n",
       "      <td>13185.565</td>\n",
       "      <td>11547.210</td>\n",
       "      <td>465.630</td>\n",
       "      <td>420.344</td>\n",
       "    </tr>\n",
       "    <tr>\n",
       "      <th>2019-01-10</th>\n",
       "      <td>-3.500</td>\n",
       "      <td>13949.530</td>\n",
       "      <td>12235.564</td>\n",
       "      <td>763.965</td>\n",
       "      <td>688.354</td>\n",
       "    </tr>\n",
       "    <tr>\n",
       "      <th>2019-01-11</th>\n",
       "      <td>-2.750</td>\n",
       "      <td>14339.844</td>\n",
       "      <td>12763.044</td>\n",
       "      <td>390.314</td>\n",
       "      <td>527.480</td>\n",
       "    </tr>\n",
       "    <tr>\n",
       "      <th>2019-01-12</th>\n",
       "      <td>0.750</td>\n",
       "      <td>14606.295</td>\n",
       "      <td>12735.145</td>\n",
       "      <td>266.451</td>\n",
       "      <td>-27.899</td>\n",
       "    </tr>\n",
       "    <tr>\n",
       "      <th>2019-01-13</th>\n",
       "      <td>2.125</td>\n",
       "      <td>13522.839</td>\n",
       "      <td>12744.419</td>\n",
       "      <td>-1083.456</td>\n",
       "      <td>9.274</td>\n",
       "    </tr>\n",
       "    <tr>\n",
       "      <th>...</th>\n",
       "      <td>...</td>\n",
       "      <td>...</td>\n",
       "      <td>...</td>\n",
       "      <td>...</td>\n",
       "      <td>...</td>\n",
       "    </tr>\n",
       "    <tr>\n",
       "      <th>2023-07-27</th>\n",
       "      <td>17.125</td>\n",
       "      <td>9692.021</td>\n",
       "      <td>9621.374</td>\n",
       "      <td>-129.586</td>\n",
       "      <td>10.371</td>\n",
       "    </tr>\n",
       "    <tr>\n",
       "      <th>2023-07-28</th>\n",
       "      <td>15.625</td>\n",
       "      <td>9676.911</td>\n",
       "      <td>9663.067</td>\n",
       "      <td>-15.110</td>\n",
       "      <td>41.693</td>\n",
       "    </tr>\n",
       "    <tr>\n",
       "      <th>2023-07-29</th>\n",
       "      <td>19.500</td>\n",
       "      <td>9754.812</td>\n",
       "      <td>9373.196</td>\n",
       "      <td>77.901</td>\n",
       "      <td>-289.871</td>\n",
       "    </tr>\n",
       "    <tr>\n",
       "      <th>2023-07-30</th>\n",
       "      <td>18.375</td>\n",
       "      <td>9525.396</td>\n",
       "      <td>9209.273</td>\n",
       "      <td>-229.416</td>\n",
       "      <td>-163.923</td>\n",
       "    </tr>\n",
       "    <tr>\n",
       "      <th>2023-07-31</th>\n",
       "      <td>18.250</td>\n",
       "      <td>9296.344</td>\n",
       "      <td>9676.462</td>\n",
       "      <td>-229.052</td>\n",
       "      <td>467.189</td>\n",
       "    </tr>\n",
       "  </tbody>\n",
       "</table>\n",
       "<p>1665 rows × 5 columns</p>\n",
       "</div>\n",
       "    <div class=\"colab-df-buttons\">\n",
       "\n",
       "  <div class=\"colab-df-container\">\n",
       "    <button class=\"colab-df-convert\" onclick=\"convertToInteractive('df-0eaf5a68-fc66-4acb-bf6a-4cdac6fc5064')\"\n",
       "            title=\"Convert this dataframe to an interactive table.\"\n",
       "            style=\"display:none;\">\n",
       "\n",
       "  <svg xmlns=\"http://www.w3.org/2000/svg\" height=\"24px\" viewBox=\"0 -960 960 960\">\n",
       "    <path d=\"M120-120v-720h720v720H120Zm60-500h600v-160H180v160Zm220 220h160v-160H400v160Zm0 220h160v-160H400v160ZM180-400h160v-160H180v160Zm440 0h160v-160H620v160ZM180-180h160v-160H180v160Zm440 0h160v-160H620v160Z\"/>\n",
       "  </svg>\n",
       "    </button>\n",
       "\n",
       "  <style>\n",
       "    .colab-df-container {\n",
       "      display:flex;\n",
       "      gap: 12px;\n",
       "    }\n",
       "\n",
       "    .colab-df-convert {\n",
       "      background-color: #E8F0FE;\n",
       "      border: none;\n",
       "      border-radius: 50%;\n",
       "      cursor: pointer;\n",
       "      display: none;\n",
       "      fill: #1967D2;\n",
       "      height: 32px;\n",
       "      padding: 0 0 0 0;\n",
       "      width: 32px;\n",
       "    }\n",
       "\n",
       "    .colab-df-convert:hover {\n",
       "      background-color: #E2EBFA;\n",
       "      box-shadow: 0px 1px 2px rgba(60, 64, 67, 0.3), 0px 1px 3px 1px rgba(60, 64, 67, 0.15);\n",
       "      fill: #174EA6;\n",
       "    }\n",
       "\n",
       "    .colab-df-buttons div {\n",
       "      margin-bottom: 4px;\n",
       "    }\n",
       "\n",
       "    [theme=dark] .colab-df-convert {\n",
       "      background-color: #3B4455;\n",
       "      fill: #D2E3FC;\n",
       "    }\n",
       "\n",
       "    [theme=dark] .colab-df-convert:hover {\n",
       "      background-color: #434B5C;\n",
       "      box-shadow: 0px 1px 3px 1px rgba(0, 0, 0, 0.15);\n",
       "      filter: drop-shadow(0px 1px 2px rgba(0, 0, 0, 0.3));\n",
       "      fill: #FFFFFF;\n",
       "    }\n",
       "  </style>\n",
       "\n",
       "    <script>\n",
       "      const buttonEl =\n",
       "        document.querySelector('#df-0eaf5a68-fc66-4acb-bf6a-4cdac6fc5064 button.colab-df-convert');\n",
       "      buttonEl.style.display =\n",
       "        google.colab.kernel.accessAllowed ? 'block' : 'none';\n",
       "\n",
       "      async function convertToInteractive(key) {\n",
       "        const element = document.querySelector('#df-0eaf5a68-fc66-4acb-bf6a-4cdac6fc5064');\n",
       "        const dataTable =\n",
       "          await google.colab.kernel.invokeFunction('convertToInteractive',\n",
       "                                                    [key], {});\n",
       "        if (!dataTable) return;\n",
       "\n",
       "        const docLinkHtml = 'Like what you see? Visit the ' +\n",
       "          '<a target=\"_blank\" href=https://colab.research.google.com/notebooks/data_table.ipynb>data table notebook</a>'\n",
       "          + ' to learn more about interactive tables.';\n",
       "        element.innerHTML = '';\n",
       "        dataTable['output_type'] = 'display_data';\n",
       "        await google.colab.output.renderOutput(dataTable, element);\n",
       "        const docLink = document.createElement('div');\n",
       "        docLink.innerHTML = docLinkHtml;\n",
       "        element.appendChild(docLink);\n",
       "      }\n",
       "    </script>\n",
       "  </div>\n",
       "\n",
       "\n",
       "<div id=\"df-bd8bdc1f-4f42-4d97-b796-b841a4dbc8c3\">\n",
       "  <button class=\"colab-df-quickchart\" onclick=\"quickchart('df-bd8bdc1f-4f42-4d97-b796-b841a4dbc8c3')\"\n",
       "            title=\"Suggest charts.\"\n",
       "            style=\"display:none;\">\n",
       "\n",
       "<svg xmlns=\"http://www.w3.org/2000/svg\" height=\"24px\"viewBox=\"0 0 24 24\"\n",
       "     width=\"24px\">\n",
       "    <g>\n",
       "        <path d=\"M19 3H5c-1.1 0-2 .9-2 2v14c0 1.1.9 2 2 2h14c1.1 0 2-.9 2-2V5c0-1.1-.9-2-2-2zM9 17H7v-7h2v7zm4 0h-2V7h2v10zm4 0h-2v-4h2v4z\"/>\n",
       "    </g>\n",
       "</svg>\n",
       "  </button>\n",
       "\n",
       "<style>\n",
       "  .colab-df-quickchart {\n",
       "      --bg-color: #E8F0FE;\n",
       "      --fill-color: #1967D2;\n",
       "      --hover-bg-color: #E2EBFA;\n",
       "      --hover-fill-color: #174EA6;\n",
       "      --disabled-fill-color: #AAA;\n",
       "      --disabled-bg-color: #DDD;\n",
       "  }\n",
       "\n",
       "  [theme=dark] .colab-df-quickchart {\n",
       "      --bg-color: #3B4455;\n",
       "      --fill-color: #D2E3FC;\n",
       "      --hover-bg-color: #434B5C;\n",
       "      --hover-fill-color: #FFFFFF;\n",
       "      --disabled-bg-color: #3B4455;\n",
       "      --disabled-fill-color: #666;\n",
       "  }\n",
       "\n",
       "  .colab-df-quickchart {\n",
       "    background-color: var(--bg-color);\n",
       "    border: none;\n",
       "    border-radius: 50%;\n",
       "    cursor: pointer;\n",
       "    display: none;\n",
       "    fill: var(--fill-color);\n",
       "    height: 32px;\n",
       "    padding: 0;\n",
       "    width: 32px;\n",
       "  }\n",
       "\n",
       "  .colab-df-quickchart:hover {\n",
       "    background-color: var(--hover-bg-color);\n",
       "    box-shadow: 0 1px 2px rgba(60, 64, 67, 0.3), 0 1px 3px 1px rgba(60, 64, 67, 0.15);\n",
       "    fill: var(--button-hover-fill-color);\n",
       "  }\n",
       "\n",
       "  .colab-df-quickchart-complete:disabled,\n",
       "  .colab-df-quickchart-complete:disabled:hover {\n",
       "    background-color: var(--disabled-bg-color);\n",
       "    fill: var(--disabled-fill-color);\n",
       "    box-shadow: none;\n",
       "  }\n",
       "\n",
       "  .colab-df-spinner {\n",
       "    border: 2px solid var(--fill-color);\n",
       "    border-color: transparent;\n",
       "    border-bottom-color: var(--fill-color);\n",
       "    animation:\n",
       "      spin 1s steps(1) infinite;\n",
       "  }\n",
       "\n",
       "  @keyframes spin {\n",
       "    0% {\n",
       "      border-color: transparent;\n",
       "      border-bottom-color: var(--fill-color);\n",
       "      border-left-color: var(--fill-color);\n",
       "    }\n",
       "    20% {\n",
       "      border-color: transparent;\n",
       "      border-left-color: var(--fill-color);\n",
       "      border-top-color: var(--fill-color);\n",
       "    }\n",
       "    30% {\n",
       "      border-color: transparent;\n",
       "      border-left-color: var(--fill-color);\n",
       "      border-top-color: var(--fill-color);\n",
       "      border-right-color: var(--fill-color);\n",
       "    }\n",
       "    40% {\n",
       "      border-color: transparent;\n",
       "      border-right-color: var(--fill-color);\n",
       "      border-top-color: var(--fill-color);\n",
       "    }\n",
       "    60% {\n",
       "      border-color: transparent;\n",
       "      border-right-color: var(--fill-color);\n",
       "    }\n",
       "    80% {\n",
       "      border-color: transparent;\n",
       "      border-right-color: var(--fill-color);\n",
       "      border-bottom-color: var(--fill-color);\n",
       "    }\n",
       "    90% {\n",
       "      border-color: transparent;\n",
       "      border-bottom-color: var(--fill-color);\n",
       "    }\n",
       "  }\n",
       "</style>\n",
       "\n",
       "  <script>\n",
       "    async function quickchart(key) {\n",
       "      const quickchartButtonEl =\n",
       "        document.querySelector('#' + key + ' button');\n",
       "      quickchartButtonEl.disabled = true;  // To prevent multiple clicks.\n",
       "      quickchartButtonEl.classList.add('colab-df-spinner');\n",
       "      try {\n",
       "        const charts = await google.colab.kernel.invokeFunction(\n",
       "            'suggestCharts', [key], {});\n",
       "      } catch (error) {\n",
       "        console.error('Error during call to suggestCharts:', error);\n",
       "      }\n",
       "      quickchartButtonEl.classList.remove('colab-df-spinner');\n",
       "      quickchartButtonEl.classList.add('colab-df-quickchart-complete');\n",
       "    }\n",
       "    (() => {\n",
       "      let quickchartButtonEl =\n",
       "        document.querySelector('#df-bd8bdc1f-4f42-4d97-b796-b841a4dbc8c3 button');\n",
       "      quickchartButtonEl.style.display =\n",
       "        google.colab.kernel.accessAllowed ? 'block' : 'none';\n",
       "    })();\n",
       "  </script>\n",
       "</div>\n",
       "    </div>\n",
       "  </div>\n"
      ],
      "text/plain": [
       "            temp_pred  target_lag1  target_lag7  diff_lag1  diff_lag7\n",
       "date                                                                 \n",
       "2019-01-09     -0.500    13185.565    11547.210    465.630    420.344\n",
       "2019-01-10     -3.500    13949.530    12235.564    763.965    688.354\n",
       "2019-01-11     -2.750    14339.844    12763.044    390.314    527.480\n",
       "2019-01-12      0.750    14606.295    12735.145    266.451    -27.899\n",
       "2019-01-13      2.125    13522.839    12744.419  -1083.456      9.274\n",
       "...               ...          ...          ...        ...        ...\n",
       "2023-07-27     17.125     9692.021     9621.374   -129.586     10.371\n",
       "2023-07-28     15.625     9676.911     9663.067    -15.110     41.693\n",
       "2023-07-29     19.500     9754.812     9373.196     77.901   -289.871\n",
       "2023-07-30     18.375     9525.396     9209.273   -229.416   -163.923\n",
       "2023-07-31     18.250     9296.344     9676.462   -229.052    467.189\n",
       "\n",
       "[1665 rows x 5 columns]"
      ]
     },
     "execution_count": 43,
     "metadata": {},
     "output_type": "execute_result"
    }
   ],
   "source": [
    "X_all"
   ]
  },
  {
   "cell_type": "code",
   "execution_count": 45,
   "id": "zLVBLKBDGdJH",
   "metadata": {
    "colab": {
     "base_uri": "https://localhost:8080/"
    },
    "id": "zLVBLKBDGdJH",
    "outputId": "d5e0a5c6-853f-4886-9604-66b6c911455e"
   },
   "outputs": [
    {
     "data": {
      "text/plain": [
       "<catboost.core.CatBoostRegressor at 0x7a73bbee7970>"
      ]
     },
     "execution_count": 45,
     "metadata": {},
     "output_type": "execute_result"
    }
   ],
   "source": [
    "cat.fit(X_all, y_all)"
   ]
  },
  {
   "cell_type": "code",
   "execution_count": 46,
   "id": "H4qa7gWYG460",
   "metadata": {
    "colab": {
     "base_uri": "https://localhost:8080/"
    },
    "id": "H4qa7gWYG460",
    "outputId": "e0973f7b-5043-4f03-cec7-a667affcb5fc"
   },
   "outputs": [
    {
     "name": "stdout",
     "output_type": "stream",
     "text": [
      "mae all = 158.08676069544742\n"
     ]
    }
   ],
   "source": [
    "print('mae all = {}'.format(mae(cat.predict(X_all), y_all)))"
   ]
  },
  {
   "cell_type": "code",
   "execution_count": 49,
   "id": "USouaD3cHMlM",
   "metadata": {
    "id": "USouaD3cHMlM"
   },
   "outputs": [],
   "source": [
    " # save into pickle\n",
    " pkl_filename = \"cat_optuna.pkl\"\n",
    " with open(pkl_filename, 'wb') as file:\n",
    "    pickle.dump(cat, file)"
   ]
  }
 ],
 "metadata": {
  "colab": {
   "provenance": []
  },
  "kernelspec": {
   "display_name": "Python 3 (ipykernel)",
   "language": "python",
   "name": "python3"
  },
  "language_info": {
   "codemirror_mode": {
    "name": "ipython",
    "version": 3
   },
   "file_extension": ".py",
   "mimetype": "text/x-python",
   "name": "python",
   "nbconvert_exporter": "python",
   "pygments_lexer": "ipython3",
   "version": "3.10.0"
  }
 },
 "nbformat": 4,
 "nbformat_minor": 5
}
